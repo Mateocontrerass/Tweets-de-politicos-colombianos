{
 "cells": [
  {
   "cell_type": "markdown",
   "metadata": {},
   "source": [
    "# Predicción de tweets\n"
   ]
  },
  {
   "cell_type": "code",
   "execution_count": 119,
   "metadata": {},
   "outputs": [],
   "source": [
    "# Descargas\n",
    "\n",
    "#pip install keras\n",
    "#!pip install tensorflow\n",
    "\n",
    "# Librerias\n",
    "import pandas as pd\n",
    "import numpy as np\n",
    "import os\n",
    "import regex as re\n",
    "import nltk.corpus\n",
    "import matplotlib.pyplot as plt\n",
    "import tensorflow as tf\n",
    "from nltk.corpus import stopwords\n",
    "\n",
    "\n"
   ]
  },
  {
   "cell_type": "code",
   "execution_count": 103,
   "metadata": {},
   "outputs": [],
   "source": [
    "# Directorio\n",
    "os.chdir(\"C:/Users/Mateo/OneDrive/Documentos/GitHub/Tweets-de-politicos-colombianos\")\n"
   ]
  },
  {
   "cell_type": "code",
   "execution_count": 104,
   "metadata": {},
   "outputs": [],
   "source": [
    "# Cargar las bases\n",
    "train = pd.read_csv(\"data/train.csv\")\n",
    "test = pd.read_csv(\"data/test.csv\")"
   ]
  },
  {
   "cell_type": "code",
   "execution_count": 105,
   "metadata": {},
   "outputs": [
    {
     "name": "stdout",
     "output_type": "stream",
     "text": [
      "<class 'pandas.core.frame.DataFrame'>\n",
      "RangeIndex: 5538 entries, 0 to 5537\n",
      "Data columns (total 3 columns):\n",
      " #   Column  Non-Null Count  Dtype \n",
      "---  ------  --------------  ----- \n",
      " 0   id      5538 non-null   object\n",
      " 1   name    5538 non-null   object\n",
      " 2   text    5538 non-null   object\n",
      "dtypes: object(3)\n",
      "memory usage: 129.9+ KB\n"
     ]
    }
   ],
   "source": [
    "# Verificar información\n",
    "\n",
    "train.info()\n",
    "# 5538 filas para entrenar"
   ]
  },
  {
   "cell_type": "code",
   "execution_count": 106,
   "metadata": {},
   "outputs": [
    {
     "data": {
      "text/plain": [
       "<bound method DataFrame.info of                             id   name  \\\n",
       "0     0733198fd8d71099785dc62a  Petro   \n",
       "1     07bb616ad3f9a56668009f3d  Petro   \n",
       "2     ee8eab5c534231af23065cae  Petro   \n",
       "3     99443d1127f1c45d033f1046  Petro   \n",
       "4     9c13d8bf9a5bf2ac1c05242d  Petro   \n",
       "...                        ...    ...   \n",
       "5533  6a306714d6f960556a3c8561  Lopez   \n",
       "5534  a87fd8e77ba603749319e249  Lopez   \n",
       "5535  b68248adacf6df197075b2ab  Lopez   \n",
       "5536  61a54a66d4677fb1ae105362  Lopez   \n",
       "5537  f5868088cf13da3cb4cc2bde  Lopez   \n",
       "\n",
       "                                                   text  \n",
       "0     Me reúno con el empresariado de Nariño para ha...  \n",
       "1     Es aquí con la belleza que comienza el torrent...  \n",
       "2     Enorme. El pacto histórico es el pacto de conv...  \n",
       "3     Popayán, Cauca. Ahora mismo. El cambio de la h...  \n",
       "4     Plazoleta San Francisco, Popayán con el Pacto ...  \n",
       "...                                                 ...  \n",
       "5533  #EnSemanaSantaNosCuidamos 🙌🏼\\n\\nNo es el momen...  \n",
       "5534  ¡En este #ViernesSanto nos seguimos cuidando, ...  \n",
       "5535  #BuenasNoticias | 232 mil personas han salido ...  \n",
       "5536  #EnSemanaSantaNosCuidamos, por eso recuerden q...  \n",
       "5537  ¡Lo prometimos y lo cumplimos!\\n\\nEn nuestro #...  \n",
       "\n",
       "[5538 rows x 3 columns]>"
      ]
     },
     "execution_count": 106,
     "metadata": {},
     "output_type": "execute_result"
    }
   ],
   "source": [
    "train.info"
   ]
  },
  {
   "cell_type": "code",
   "execution_count": 107,
   "metadata": {},
   "outputs": [],
   "source": [
    "train.drop('id', inplace=True, axis=1)\n",
    "test.drop('id', inplace=True, axis=1)"
   ]
  },
  {
   "cell_type": "code",
   "execution_count": 108,
   "metadata": {},
   "outputs": [
    {
     "data": {
      "text/plain": [
       "'Es aquí con la belleza que comienza el torrente de la historia y la cultura.\\n\\nGracias pueblo Mizak\\n\\nSebastian de Guambia, Silvia, Cauca. https://t.co/r3GFbQjpdj'"
      ]
     },
     "execution_count": 108,
     "metadata": {},
     "output_type": "execute_result"
    }
   ],
   "source": [
    "train.text[1]"
   ]
  },
  {
   "cell_type": "code",
   "execution_count": 109,
   "metadata": {},
   "outputs": [
    {
     "name": "stderr",
     "output_type": "stream",
     "text": [
      "[nltk_data] Downloading package stopwords to\n",
      "[nltk_data]     C:\\Users\\Mateo\\AppData\\Roaming\\nltk_data...\n",
      "[nltk_data]   Package stopwords is already up-to-date!\n"
     ]
    }
   ],
   "source": [
    "# Stop words\n",
    "\n",
    "# Descargar\n",
    "nltk.download('stopwords')\n",
    "\n",
    "# Establecerlas en español\n",
    "sstopwords=set(stopwords.words(\"spanish\"))"
   ]
  },
  {
   "cell_type": "code",
   "execution_count": 110,
   "metadata": {},
   "outputs": [],
   "source": [
    "# Limpiar texto\n",
    "def texto_limpio(texto):\n",
    "    texto=texto.lower()\n",
    "\n",
    "    #Quitar url de pic. y http//\n",
    "\n",
    "    texto=re.sub(r\"http[.\\a-z]+\", \" \", texto)\n",
    "    texto=re.sub(r\"pic.[.\\a-z]+\", \" \", texto) \n",
    "    dict_accents={\n",
    "        \"á\":\"a\",\n",
    "        \"é\":\"e\",\n",
    "        \"í\":\"i\",\n",
    "        \"ó\":\"o\",\n",
    "        \"ú\":\"u\",\n",
    "        \"ñ\":\"n\",\n",
    "\n",
    "    }\n",
    "    for acc in dict_accents:\n",
    "     texto= texto.replace(acc, dict_accents.get(acc))\n",
    "\n",
    "\n",
    "   \n",
    "    #2. Quitar menciones\n",
    "    texto=re.sub(r\"@[a-zA-Z0-9_]+\", \" \",texto)\n",
    "    #3. Quitar hashtags\n",
    "    texto=re.sub(r\"#[a-zA-Z0-9_]+\", \" \",texto)\n",
    "    #4. Quitar caracteres especiales\n",
    "    texto= re.sub(r\"[^a-z0-9]\", \" \", texto)\n",
    "    #5. Quitar otros numeros\n",
    "    texto=re.sub(r\"[0-9]+\", \" \", texto)\n",
    "    #6. Quitar dobles espacios\n",
    "    texto=re.sub(r\"  +\", \" \", texto)\n",
    "    #7. Quitar espacios al inicio y final\n",
    "    texto=texto.strip()\n",
    "    #8. Quitar stopwords\n",
    "    texto = ' '.join(word for word in texto.split() if word not in sstopwords) # remove stopwors from text\n",
    "\n",
    "    return(texto)"
   ]
  },
  {
   "cell_type": "code",
   "execution_count": null,
   "metadata": {},
   "outputs": [],
   "source": []
  },
  {
   "cell_type": "code",
   "execution_count": 111,
   "metadata": {},
   "outputs": [],
   "source": [
    "train2 = train.copy() \n",
    "test2 = test.copy()\n",
    "train2.text = [texto_limpio(t)for t in train.text]\n",
    "test2.text = [texto_limpio(t)for t in test.text]"
   ]
  },
  {
   "cell_type": "markdown",
   "metadata": {},
   "source": [
    "Verificación\n"
   ]
  },
  {
   "cell_type": "code",
   "execution_count": 112,
   "metadata": {},
   "outputs": [
    {
     "name": "stdout",
     "output_type": "stream",
     "text": [
      "Es aquí con la belleza que comienza el torrente de la historia y la cultura.\n",
      "\n",
      "Gracias pueblo Mizak\n",
      "\n",
      "Sebastian de Guambia, Silvia, Cauca. https://t.co/r3GFbQjpdj\n",
      "aqui belleza comienza torrente historia cultura gracias pueblo mizak sebastian guambia silvia cauca\n"
     ]
    }
   ],
   "source": [
    "print(train.text[1])\n",
    "print(train2.text[1])"
   ]
  },
  {
   "cell_type": "code",
   "execution_count": 113,
   "metadata": {},
   "outputs": [
    {
     "name": "stdout",
     "output_type": "stream",
     "text": [
      "#EnSemanaSantaNosCuidamos 🙌🏼\n",
      "\n",
      "No es el momento de bajar la guardia. Los invitamos a conocer en detalle cada una de las medidas y recomendaciones de cuidado para esta Semana Santa 👇🏻\n",
      "\n",
      "https://t.co/2zjp4UFENT\n",
      "momento bajar guardia invitamos conocer detalle cada medidas recomendaciones cuidado semana santa\n"
     ]
    }
   ],
   "source": [
    "print(train.text[5533])\n",
    "print(train2.text[5533])"
   ]
  },
  {
   "cell_type": "code",
   "execution_count": 114,
   "metadata": {},
   "outputs": [
    {
     "name": "stdout",
     "output_type": "stream",
     "text": [
      "Hoy radicamos nuestra propuesta de Plan de Ordenamiento Territorial (POT) 2022-2035. \n",
      "\n",
      "El POT más verde, sostenible, equitativo, integrador, con enfoque diferencial y de género que construirá la Bogotá del siglo XXI. #ConElPotBogotáReverdece💚\n",
      "Conéctense👇\n",
      "https://t.co/GCVbGXVRfn\n",
      "hoy radicamos propuesta plan ordenamiento territorial pot pot mas verde sostenible equitativo integrador enfoque diferencial genero construira bogota siglo xxi conectense\n"
     ]
    }
   ],
   "source": [
    "print(test.text[2])\n",
    "print(test2.text[2])"
   ]
  },
  {
   "cell_type": "markdown",
   "metadata": {},
   "source": [
    "Poner las clases"
   ]
  },
  {
   "cell_type": "code",
   "execution_count": 115,
   "metadata": {},
   "outputs": [
    {
     "data": {
      "text/html": [
       "<div>\n",
       "<style scoped>\n",
       "    .dataframe tbody tr th:only-of-type {\n",
       "        vertical-align: middle;\n",
       "    }\n",
       "\n",
       "    .dataframe tbody tr th {\n",
       "        vertical-align: top;\n",
       "    }\n",
       "\n",
       "    .dataframe thead th {\n",
       "        text-align: right;\n",
       "    }\n",
       "</style>\n",
       "<table border=\"1\" class=\"dataframe\">\n",
       "  <thead>\n",
       "    <tr style=\"text-align: right;\">\n",
       "      <th></th>\n",
       "      <th>name</th>\n",
       "      <th>text</th>\n",
       "    </tr>\n",
       "  </thead>\n",
       "  <tbody>\n",
       "    <tr>\n",
       "      <th>0</th>\n",
       "      <td>Petro</td>\n",
       "      <td>reuno empresariado narino hablar economia prod...</td>\n",
       "    </tr>\n",
       "    <tr>\n",
       "      <th>1</th>\n",
       "      <td>Petro</td>\n",
       "      <td>aqui belleza comienza torrente historia cultur...</td>\n",
       "    </tr>\n",
       "    <tr>\n",
       "      <th>2</th>\n",
       "      <td>Petro</td>\n",
       "      <td>enorme pacto historico pacto convivencia permi...</td>\n",
       "    </tr>\n",
       "    <tr>\n",
       "      <th>3</th>\n",
       "      <td>Petro</td>\n",
       "      <td>popayan cauca ahora mismo cambio historia colo...</td>\n",
       "    </tr>\n",
       "    <tr>\n",
       "      <th>4</th>\n",
       "      <td>Petro</td>\n",
       "      <td>plazoleta san francisco popayan pacto historico</td>\n",
       "    </tr>\n",
       "  </tbody>\n",
       "</table>\n",
       "</div>"
      ],
      "text/plain": [
       "    name                                               text\n",
       "0  Petro  reuno empresariado narino hablar economia prod...\n",
       "1  Petro  aqui belleza comienza torrente historia cultur...\n",
       "2  Petro  enorme pacto historico pacto convivencia permi...\n",
       "3  Petro  popayan cauca ahora mismo cambio historia colo...\n",
       "4  Petro    plazoleta san francisco popayan pacto historico"
      ]
     },
     "execution_count": 115,
     "metadata": {},
     "output_type": "execute_result"
    }
   ],
   "source": [
    "train2.head()"
   ]
  },
  {
   "cell_type": "code",
   "execution_count": 116,
   "metadata": {},
   "outputs": [
    {
     "name": "stdout",
     "output_type": "stream",
     "text": [
      "169717\n"
     ]
    }
   ],
   "source": [
    "\n",
    "print(train['text'].apply(lambda x: len(x.split(' '))).sum())\n",
    "# Hay 169k palabras en todo el set"
   ]
  },
  {
   "cell_type": "code",
   "execution_count": 117,
   "metadata": {},
   "outputs": [
    {
     "name": "stdout",
     "output_type": "stream",
     "text": [
      "Uribe    2271\n",
      "Lopez    1715\n",
      "Petro    1552\n",
      "Name: name, dtype: int64\n"
     ]
    },
    {
     "data": {
      "image/png": "[encoded data removed]",
      "text/plain": [
       "<Figure size 720x288 with 1 Axes>"
      ]
     },
     "metadata": {
      "needs_background": "light"
     },
     "output_type": "display_data"
    }
   ],
   "source": [
    "# Balance de clases\n",
    "print(train2.name.value_counts())\n",
    "\n",
    "plt.figure(figsize=(10,4))\n",
    "train2.name.value_counts().plot(kind='bar');\n",
    "\n",
    "# Más o menos bien balanceado"
   ]
  },
  {
   "cell_type": "code",
   "execution_count": 124,
   "metadata": {},
   "outputs": [
    {
     "name": "stdout",
     "output_type": "stream",
     "text": [
      "Found 15367 unique tokens.\n"
     ]
    }
   ],
   "source": [
    "# Maximo numero de palabras totales.\n",
    "MAX_NB_WORDS = 50000\n",
    "# Maximo numero de palabras por entrada a 250: esto es mucho dado que twitter admite alrededor de 240 caracteres.\n",
    "MAX_SEQUENCE_LENGTH = 250\n",
    "# Parametro dado.\n",
    "EMBEDDING_DIM = 100\n",
    "tokenizer = tf.keras.preprocessing.text.Tokenizer(num_words=MAX_NB_WORDS, filters='!\"#$%&()*+,-./:;<=>?@[\\]^_`{|}~', lower=True)\n",
    "tokenizer.fit_on_texts(train2['text'].values)\n",
    "word_index = tokenizer.word_index\n",
    "print('Total de %s palabras unicas.' % len(word_index))"
   ]
  },
  {
   "cell_type": "code",
   "execution_count": 125,
   "metadata": {},
   "outputs": [
    {
     "ename": "AttributeError",
     "evalue": "type object 'Tokenizer' has no attribute 'text_to_sequences'",
     "output_type": "error",
     "traceback": [
      "\u001b[1;31m---------------------------------------------------------------------------\u001b[0m",
      "\u001b[1;31mAttributeError\u001b[0m                            Traceback (most recent call last)",
      "\u001b[1;32m~\\AppData\\Local\\Temp/ipykernel_9200/1629407233.py\u001b[0m in \u001b[0;36m<module>\u001b[1;34m\u001b[0m\n\u001b[1;32m----> 1\u001b[1;33m \u001b[0mX\u001b[0m \u001b[1;33m=\u001b[0m \u001b[0mtf\u001b[0m\u001b[1;33m.\u001b[0m\u001b[0mkeras\u001b[0m\u001b[1;33m.\u001b[0m\u001b[0mpreprocessing\u001b[0m\u001b[1;33m.\u001b[0m\u001b[0mtext\u001b[0m\u001b[1;33m.\u001b[0m\u001b[0mTokenizer\u001b[0m\u001b[1;33m.\u001b[0m\u001b[0mtext_to_sequences\u001b[0m\u001b[1;33m(\u001b[0m\u001b[0mtrain2\u001b[0m\u001b[1;33m[\u001b[0m\u001b[1;34m'text'\u001b[0m\u001b[1;33m]\u001b[0m\u001b[1;33m.\u001b[0m\u001b[0mvalues\u001b[0m\u001b[1;33m)\u001b[0m\u001b[1;33m\u001b[0m\u001b[1;33m\u001b[0m\u001b[0m\n\u001b[0m",
      "\u001b[1;31mAttributeError\u001b[0m: type object 'Tokenizer' has no attribute 'text_to_sequences'"
     ]
    }
   ],
   "source": [
    "X = tf.keras.preprocessing.text.Tokenizer.text_to_sequences(train2['text'].values)"
   ]
  }
 ],
 "metadata": {
  "kernelspec": {
   "display_name": "Python 3.9.7 ('base')",
   "language": "python",
   "name": "python3"
  },
  "language_info": {
   "codemirror_mode": {
    "name": "ipython",
    "version": 3
   },
   "file_extension": ".py",
   "mimetype": "text/x-python",
   "name": "python",
   "nbconvert_exporter": "python",
   "pygments_lexer": "ipython3",
   "version": "3.9.7"
  },
  "orig_nbformat": 4,
  "vscode": {
   "interpreter": {
    "hash": "71a00d3e08e5ba206713286c45aa105eaebc7f8fd069fae85e11b8f2ace1fa2e"
   }
  }
 },
 "nbformat": 4,
 "nbformat_minor": 2
}
